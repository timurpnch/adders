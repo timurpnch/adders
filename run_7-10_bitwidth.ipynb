{
 "cells": [
  {
   "cell_type": "markdown",
   "id": "b02e6aa8-7f00-4dfc-b3d4-ebbca5c0566d",
   "metadata": {},
   "source": [
    "# Проверка LLM генератора для n=7, 8, 9, 10"
   ]
  },
  {
   "cell_type": "code",
   "execution_count": 2,
   "id": "f8183a19-c7c8-40a1-a424-3a549430d186",
   "metadata": {},
   "outputs": [],
   "source": [
    "import subprocess\n",
    "import matplotlib.pyplot as plt\n",
    "import os\n",
    "from constants import OPENAI_API_KEY, BITWIDTH\n",
    "from pathlib import Path\n",
    "from parse_functions import get_pareto_points, get_points"
   ]
  },
  {
   "cell_type": "markdown",
   "id": "dfbf7903-5a7a-476d-b289-fd07be82c4de",
   "metadata": {},
   "source": [
    "# n=7"
   ]
  },
  {
   "cell_type": "markdown",
   "id": "d778d4f2-b034-4a1f-997e-bc2ec59affee",
   "metadata": {
    "jp-MarkdownHeadingCollapsed": true
   },
   "source": [
    "## Синтез"
   ]
  },
  {
   "cell_type": "markdown",
   "id": "a877a14c-7218-4ba1-999c-bf5c403f5c47",
   "metadata": {
    "collapsed": true,
    "jupyter": {
     "outputs_hidden": true
    }
   },
   "source": [
    "### Очищаем папки и запускаем LLM-генератор"
   ]
  },
  {
   "cell_type": "code",
   "execution_count": 15,
   "id": "9af5da83-ae24-417d-8f3d-3938f84d215d",
   "metadata": {},
   "outputs": [
    {
     "data": {
      "text/plain": [
       "CompletedProcess(args='rm -rf llm_bitwidth_7/* llm_bitwidth_7_output/*', returncode=0)"
      ]
     },
     "execution_count": 15,
     "metadata": {},
     "output_type": "execute_result"
    }
   ],
   "source": [
    "BITWIDTH = 7\n",
    "out_dir = f'llm_bitwidth_{BITWIDTH}'\n",
    "Path(out_dir).mkdir(parents=True, exist_ok=True)\n",
    "Path(f'{out_dir}_output').mkdir(parents=True, exist_ok=True)\n",
    "subprocess.run(f'rm -rf {out_dir}/* {out_dir}_output/*', shell=True, check=True)"
   ]
  },
  {
   "cell_type": "code",
   "execution_count": 17,
   "id": "72f1c0d2-b1f6-45ff-83ba-2c5e37b14358",
   "metadata": {},
   "outputs": [
    {
     "name": "stdout",
     "output_type": "stream",
     "text": [
      "\n",
      "Iteration 1\n",
      "Lacking bit ranges: [(0, 1), (0, 2), (0, 3), (0, 4), (0, 5), (0, 6)]\n",
      "Sending request to LLM...\n",
      "LLM response:\n",
      "7: connectedNodes=(0, 1), range=[0:1], left_bound=0, right_bound=1.\n",
      "8: connectedNodes=(7, 2), range=[0:2], left_bound=0, right_bound=2.\n",
      "9: connectedNodes=(8, 3), range=[0:3], left_bound=0, right_bound=3.\n",
      "10: connectedNodes=(9, 4), range=[0:4], left_bound=0, right_bound=4.\n",
      "11: connectedNodes=(10, 5), range=[0:5], left_bound=0, right_bound=5.\n",
      "12: connectedNodes=(11, 6), range=[0:6], left_bound=0, right_bound=6.\n",
      "New nodes received: 6\n",
      "\n",
      "Iteration 2\n",
      "SPCR is valid, synthesis completed.\n"
     ]
    },
    {
     "data": {
      "text/plain": [
       "CompletedProcess(args=['python3', 'llm_generator.py'], returncode=0)"
      ]
     },
     "execution_count": 17,
     "metadata": {},
     "output_type": "execute_result"
    }
   ],
   "source": [
    "subprocess.run([\"python3\", \"llm_generator.py\"], check=True)"
   ]
  },
  {
   "cell_type": "markdown",
   "id": "c0d30f0d-6ebd-4006-8ef6-9bed753fa7d8",
   "metadata": {},
   "source": [
    "### Проверяем структуру"
   ]
  },
  {
   "cell_type": "code",
   "execution_count": 18,
   "id": "1f06e275-f2f1-4029-af50-4db14327cc17",
   "metadata": {},
   "outputs": [
    {
     "name": "stdout",
     "output_type": "stream",
     "text": [
      "llm_bitwidth_7\n",
      "Correct all 1 files\n",
      "llm_bitwidth_8\n",
      "Correct all 0 files\n",
      "llm_bitwidth_9\n",
      "Correct all 0 files\n",
      "llm_bitwidth_10\n",
      "Correct all 0 files\n"
     ]
    },
    {
     "data": {
      "text/plain": [
       "CompletedProcess(args=['python3', '1_check_input_files.py', 'llm_bitwidth'], returncode=0)"
      ]
     },
     "execution_count": 18,
     "metadata": {},
     "output_type": "execute_result"
    }
   ],
   "source": [
    "subprocess.run([\"python3\", \"1_check_input_files.py\", \"llm_bitwidth\"], check=True)"
   ]
  },
  {
   "cell_type": "markdown",
   "id": "21b8f2d3-843b-4083-8215-06503392a742",
   "metadata": {},
   "source": [
    "### Запускаем синтез"
   ]
  },
  {
   "cell_type": "code",
   "execution_count": null,
   "id": "98d0d7fd-a501-4029-a42a-847c808b0346",
   "metadata": {
    "scrolled": true
   },
   "outputs": [],
   "source": [
    "subprocess.run(f\"export BIT_WIDTH={out_dir} && yosys 3_run_synthesis.tcl\", shell=True, check=True)"
   ]
  },
  {
   "cell_type": "markdown",
   "id": "447595a8-3e83-42f6-a25b-5bd0f742cd35",
   "metadata": {},
   "source": [
    "### Получаем площадь и задержку"
   ]
  },
  {
   "cell_type": "code",
   "execution_count": null,
   "id": "384b6699-77af-4e10-9d01-9121e3cc8b93",
   "metadata": {
    "scrolled": true
   },
   "outputs": [],
   "source": [
    "subprocess.run([\"python3\", \"4_get_delay_sta.py\", \"llm_bitwidth\"], check=True)"
   ]
  },
  {
   "cell_type": "markdown",
   "id": "e49e3039-cc61-4529-affd-59ce3299e62a",
   "metadata": {},
   "source": [
    "## Результат"
   ]
  },
  {
   "cell_type": "code",
   "execution_count": 25,
   "id": "e831b18c-5d68-4f06-91f5-ef568f39cb20",
   "metadata": {},
   "outputs": [
    {
     "data": {
      "image/png": "[encoded data removed]",
      "text/plain": [
       "<Figure size 640x480 with 1 Axes>"
      ]
     },
     "metadata": {},
     "output_type": "display_data"
    }
   ],
   "source": [
    "res_dir = f'{out_dir}_output'\n",
    "df_llm = get_points(res_dir)\n",
    "pareto_front_llm = get_pareto_points(df_llm)\n",
    "\n",
    "plt.scatter(df_llm.area, df_llm.delay, alpha=0.5)\n",
    "plt.scatter(pareto_front_llm.area, pareto_front_llm.delay, c='r')\n",
    "plt.grid()"
   ]
  },
  {
   "cell_type": "markdown",
   "id": "bc5023f2-0e82-4424-a798-cbc8ef6d5950",
   "metadata": {},
   "source": [
    "# n=8"
   ]
  },
  {
   "cell_type": "markdown",
   "id": "8c62628e-225c-4c41-973c-2922f40de03f",
   "metadata": {
    "jp-MarkdownHeadingCollapsed": true
   },
   "source": [
    "## Синтез"
   ]
  },
  {
   "cell_type": "code",
   "execution_count": 26,
   "id": "d12b0d4b-ac45-4659-aa68-3932ee75d5da",
   "metadata": {},
   "outputs": [
    {
     "data": {
      "text/plain": [
       "CompletedProcess(args='rm -rf llm_bitwidth_8/* llm_bitwidth_8_output/*', returncode=0)"
      ]
     },
     "execution_count": 26,
     "metadata": {},
     "output_type": "execute_result"
    }
   ],
   "source": [
    "BITWIDTH = 8\n",
    "out_dir = f'llm_bitwidth_{BITWIDTH}'\n",
    "Path(out_dir).mkdir(parents=True, exist_ok=True)\n",
    "Path(f'{out_dir}_output').mkdir(parents=True, exist_ok=True)\n",
    "subprocess.run(f'rm -rf {out_dir}/* {out_dir}_output/*', shell=True, check=True)"
   ]
  },
  {
   "cell_type": "code",
   "execution_count": 27,
   "id": "ffcc20f5-07dc-42cb-9825-3b38ee925f4b",
   "metadata": {},
   "outputs": [
    {
     "name": "stdout",
     "output_type": "stream",
     "text": [
      "\n",
      "Iteration 1\n",
      "Lacking bit ranges: [(0, 1), (0, 2), (0, 3), (0, 4), (0, 5), (0, 6), (0, 7)]\n",
      "Sending request to LLM...\n",
      "LLM response:\n",
      "8: connectedNodes=(0, 1), range=[0:1], left_bound=0, right_bound=1.\n",
      "9: connectedNodes=(8, 2), range=[0:2], left_bound=0, right_bound=2.\n",
      "10: connectedNodes=(9, 3), range=[0:3], left_bound=0, right_bound=3.\n",
      "11: connectedNodes=(10, 4), range=[0:4], left_bound=0, right_bound=4.\n",
      "12: connectedNodes=(11, 5), range=[0:5], left_bound=0, right_bound=5.\n",
      "13: connectedNodes=(12, 6), range=[0:6], left_bound=0, right_bound=6.\n",
      "14: connectedNodes=(13, 7), range=[0:7], left_bound=0, right_bound=7.\n",
      "New nodes received: 7\n",
      "\n",
      "Iteration 2\n",
      "SPCR is valid, synthesis completed.\n"
     ]
    },
    {
     "data": {
      "text/plain": [
       "CompletedProcess(args=['python3', 'llm_generator.py'], returncode=0)"
      ]
     },
     "execution_count": 27,
     "metadata": {},
     "output_type": "execute_result"
    }
   ],
   "source": [
    "subprocess.run([\"python3\", \"llm_generator.py\"], check=True)"
   ]
  },
  {
   "cell_type": "code",
   "execution_count": 28,
   "id": "53b7ed86-cfcb-439e-ae05-ba57520f6955",
   "metadata": {},
   "outputs": [
    {
     "name": "stdout",
     "output_type": "stream",
     "text": [
      "llm_bitwidth_7\n",
      "Correct all 1 files\n",
      "llm_bitwidth_8\n",
      "Correct all 1 files\n",
      "llm_bitwidth_9\n",
      "Correct all 0 files\n",
      "llm_bitwidth_10\n",
      "Correct all 0 files\n"
     ]
    },
    {
     "data": {
      "text/plain": [
       "CompletedProcess(args=['python3', '1_check_input_files.py', 'llm_bitwidth'], returncode=0)"
      ]
     },
     "execution_count": 28,
     "metadata": {},
     "output_type": "execute_result"
    }
   ],
   "source": [
    "subprocess.run([\"python3\", \"1_check_input_files.py\", \"llm_bitwidth\"], check=True)"
   ]
  },
  {
   "cell_type": "code",
   "execution_count": null,
   "id": "729dcb8a-d585-4845-bce5-447cb0b8e338",
   "metadata": {},
   "outputs": [],
   "source": [
    "subprocess.run(f\"export BIT_WIDTH={out_dir} && yosys 3_run_synthesis.tcl\", shell=True, check=True)"
   ]
  },
  {
   "cell_type": "code",
   "execution_count": null,
   "id": "f4518ae7-e214-48d8-834e-3e158416b001",
   "metadata": {},
   "outputs": [],
   "source": [
    "subprocess.run([\"python3\", \"4_get_delay_sta.py\", \"llm_bitwidth\"], check=True)"
   ]
  },
  {
   "cell_type": "markdown",
   "id": "afa5280e-220e-4486-baef-4263af9fd155",
   "metadata": {},
   "source": [
    "## Результат"
   ]
  },
  {
   "cell_type": "code",
   "execution_count": 31,
   "id": "09c06939-e829-434a-9c63-9b5c7f6be71d",
   "metadata": {},
   "outputs": [
    {
     "data": {
      "image/png": "[encoded data removed]",
      "text/plain": [
       "<Figure size 640x480 with 1 Axes>"
      ]
     },
     "metadata": {},
     "output_type": "display_data"
    }
   ],
   "source": [
    "res_dir = f'{out_dir}_output'\n",
    "df_llm = get_points(res_dir)\n",
    "pareto_front_llm = get_pareto_points(df_llm)\n",
    "\n",
    "plt.scatter(df_llm.area, df_llm.delay, alpha=0.5)\n",
    "plt.scatter(pareto_front_llm.area, pareto_front_llm.delay, c='r')\n",
    "plt.grid()"
   ]
  },
  {
   "cell_type": "markdown",
   "id": "dcbad2bb-ec22-429a-ab5e-efed6f8931e0",
   "metadata": {},
   "source": [
    "# n=9"
   ]
  },
  {
   "cell_type": "markdown",
   "id": "6121b72a-1e21-4f49-b4f1-43065987ebba",
   "metadata": {},
   "source": [
    "## Синтез"
   ]
  },
  {
   "cell_type": "code",
   "execution_count": 5,
   "id": "48f76366-0f95-4e03-8aa0-be7a149b71bb",
   "metadata": {},
   "outputs": [],
   "source": [
    "BITWIDTH = 9\n",
    "out_dir = f'llm_bitwidth_{BITWIDTH}'\n",
    "Path(out_dir).mkdir(parents=True, exist_ok=True)\n",
    "Path(f'{out_dir}_output').mkdir(parents=True, exist_ok=True)\n",
    "subprocess.run(f'rm -rf {out_dir}/* {out_dir}_output/*', shell=True, check=True)"
   ]
  },
  {
   "cell_type": "code",
   "execution_count": 34,
   "id": "4d1692e1-e874-46bd-93ab-273d732e4ed7",
   "metadata": {},
   "outputs": [
    {
     "name": "stdout",
     "output_type": "stream",
     "text": [
      "\n",
      "Iteration 1\n",
      "Lacking bit ranges: [(0, 1), (0, 2), (0, 3), (0, 4), (0, 5), (0, 6), (0, 7), (0, 8)]\n",
      "Sending request to LLM...\n",
      "LLM response:\n",
      "9: connectedNodes=(0, 1), range=[0:1], left_bound=0, right_bound=1.\n",
      "10: connectedNodes=(9, 2), range=[0:2], left_bound=0, right_bound=2.\n",
      "11: connectedNodes=(10, 3), range=[0:3], left_bound=0, right_bound=3.\n",
      "12: connectedNodes=(11, 4), range=[0:4], left_bound=0, right_bound=4.\n",
      "13: connectedNodes=(12, 5), range=[0:5], left_bound=0, right_bound=5.\n",
      "14: connectedNodes=(13, 6), range=[0:6], left_bound=0, right_bound=6.\n",
      "15: connectedNodes=(14, 7), range=[0:7], left_bound=0, right_bound=7.\n",
      "16: connectedNodes=(15, 8), range=[0:8], left_bound=0, right_bound=8.\n",
      "New nodes received: 8\n",
      "\n",
      "Iteration 2\n",
      "SPCR is valid, synthesis completed.\n"
     ]
    },
    {
     "data": {
      "text/plain": [
       "CompletedProcess(args=['python3', 'llm_generator.py'], returncode=0)"
      ]
     },
     "execution_count": 34,
     "metadata": {},
     "output_type": "execute_result"
    }
   ],
   "source": [
    "subprocess.run([\"python3\", \"llm_generator.py\"], check=True)"
   ]
  },
  {
   "cell_type": "code",
   "execution_count": 35,
   "id": "a7938e50-03fc-44d8-8eb8-825f6228c6f4",
   "metadata": {},
   "outputs": [
    {
     "name": "stdout",
     "output_type": "stream",
     "text": [
      "llm_bitwidth_7\n",
      "Correct all 1 files\n",
      "llm_bitwidth_8\n",
      "Correct all 1 files\n",
      "llm_bitwidth_9\n",
      "Correct all 1 files\n",
      "llm_bitwidth_10\n",
      "Correct all 0 files\n"
     ]
    },
    {
     "data": {
      "text/plain": [
       "CompletedProcess(args=['python3', '1_check_input_files.py', 'llm_bitwidth'], returncode=0)"
      ]
     },
     "execution_count": 35,
     "metadata": {},
     "output_type": "execute_result"
    }
   ],
   "source": [
    "subprocess.run([\"python3\", \"1_check_input_files.py\", \"llm_bitwidth\"], check=True)"
   ]
  },
  {
   "cell_type": "code",
   "execution_count": null,
   "id": "1cd15ed1-5fce-476f-91fa-b5ef15bce050",
   "metadata": {},
   "outputs": [],
   "source": [
    "subprocess.run(f\"export BIT_WIDTH={out_dir} && yosys 3_run_synthesis.tcl\", shell=True, check=True)"
   ]
  },
  {
   "cell_type": "code",
   "execution_count": null,
   "id": "9eb7d9ae-742b-4d3e-baf8-294a1c4ae6a4",
   "metadata": {},
   "outputs": [],
   "source": [
    "subprocess.run([\"python3\", \"4_get_delay_sta.py\", \"llm_bitwidth\"], check=True)"
   ]
  },
  {
   "cell_type": "markdown",
   "id": "08e89485-4069-4d66-a310-6177da39f071",
   "metadata": {},
   "source": [
    "## Результат"
   ]
  },
  {
   "cell_type": "code",
   "execution_count": 6,
   "id": "918a9644-5412-4299-a4e8-ac99fb9f5ecb",
   "metadata": {},
   "outputs": [
    {
     "data": {
      "image/png": "[encoded data removed]",
      "text/plain": [
       "<Figure size 640x480 with 1 Axes>"
      ]
     },
     "metadata": {},
     "output_type": "display_data"
    }
   ],
   "source": [
    "res_dir = f'{out_dir}_output'\n",
    "df_llm = get_points(res_dir)\n",
    "pareto_front_llm = get_pareto_points(df_llm)\n",
    "\n",
    "plt.scatter(df_llm.area, df_llm.delay, alpha=0.5)\n",
    "plt.scatter(pareto_front_llm.area, pareto_front_llm.delay, c='r')\n",
    "plt.grid()"
   ]
  },
  {
   "cell_type": "markdown",
   "id": "f1c5cb32-cf36-4058-bebc-f0446f78a1ad",
   "metadata": {},
   "source": [
    "# n = 10"
   ]
  },
  {
   "cell_type": "markdown",
   "id": "7e6fa0b6-c729-4567-bce2-c97ab8257ffe",
   "metadata": {
    "jp-MarkdownHeadingCollapsed": true
   },
   "source": [
    "## Синтез"
   ]
  },
  {
   "cell_type": "code",
   "execution_count": 9,
   "id": "f7071650-f7b4-4589-b0f1-43e82206f07f",
   "metadata": {},
   "outputs": [
    {
     "data": {
      "text/plain": [
       "CompletedProcess(args='rm -rf llm_bitwidth_10/* llm_bitwidth_10_output/*', returncode=0)"
      ]
     },
     "execution_count": 9,
     "metadata": {},
     "output_type": "execute_result"
    }
   ],
   "source": [
    "BITWIDTH = 10\n",
    "out_dir = f'llm_bitwidth_{BITWIDTH}'\n",
    "Path(out_dir).mkdir(parents=True, exist_ok=True)\n",
    "Path(f'{out_dir}_output').mkdir(parents=True, exist_ok=True)\n",
    "subprocess.run(f'rm -rf {out_dir}/* {out_dir}_output/*', shell=True, check=True)"
   ]
  },
  {
   "cell_type": "code",
   "execution_count": 10,
   "id": "e24dec4f-b376-426a-bd90-c5f4a982dcd1",
   "metadata": {},
   "outputs": [
    {
     "name": "stdout",
     "output_type": "stream",
     "text": [
      "\n",
      "Iteration 1\n",
      "Lacking bit ranges: [(0, 1), (0, 2), (0, 3), (0, 4), (0, 5), (0, 6), (0, 7), (0, 8), (0, 9)]\n",
      "Sending request to LLM...\n",
      "LLM response:\n",
      "10: connectedNodes=(0, 1), range=[0:1], left_bound=0, right_bound=1.\n",
      "11: connectedNodes=(10, 2), range=[0:2], left_bound=0, right_bound=2.\n",
      "12: connectedNodes=(11, 3), range=[0:3], left_bound=0, right_bound=3.\n",
      "13: connectedNodes=(12, 4), range=[0:4], left_bound=0, right_bound=4.\n",
      "14: connectedNodes=(13, 5), range=[0:5], left_bound=0, right_bound=5.\n",
      "15: connectedNodes=(14, 6), range=[0:6], left_bound=0, right_bound=6.\n",
      "16: connectedNodes=(15, 7), range=[0:7], left_bound=0, right_bound=7.\n",
      "17: connectedNodes=(16, 8), range=[0:8], left_bound=0, right_bound=8.\n",
      "18: connectedNodes=(17, 9), range=[0:9], left_bound=0, right_bound=9.\n",
      "New nodes received: 9\n",
      "\n",
      "Iteration 2\n",
      "SPCR is valid, synthesis completed.\n"
     ]
    },
    {
     "data": {
      "text/plain": [
       "CompletedProcess(args=['python3', 'llm_generator.py'], returncode=0)"
      ]
     },
     "execution_count": 10,
     "metadata": {},
     "output_type": "execute_result"
    }
   ],
   "source": [
    "subprocess.run([\"python3\", \"llm_generator.py\"], check=True)"
   ]
  },
  {
   "cell_type": "code",
   "execution_count": 11,
   "id": "f04264e2-b210-4833-aee2-c162c1d09ec5",
   "metadata": {},
   "outputs": [
    {
     "name": "stdout",
     "output_type": "stream",
     "text": [
      "llm_bitwidth_7\n",
      "Correct all 1 files\n",
      "llm_bitwidth_8\n",
      "Correct all 1 files\n",
      "llm_bitwidth_9\n",
      "Correct all 1 files\n",
      "llm_bitwidth_10\n",
      "Correct all 1 files\n"
     ]
    },
    {
     "data": {
      "text/plain": [
       "CompletedProcess(args=['python3', '1_check_input_files.py', 'llm_bitwidth'], returncode=0)"
      ]
     },
     "execution_count": 11,
     "metadata": {},
     "output_type": "execute_result"
    }
   ],
   "source": [
    "subprocess.run([\"python3\", \"1_check_input_files.py\", \"llm_bitwidth\"], check=True)"
   ]
  },
  {
   "cell_type": "code",
   "execution_count": null,
   "id": "c4cb6140-c8f0-4395-b67b-86a3ab87eed7",
   "metadata": {},
   "outputs": [],
   "source": [
    "subprocess.run(f\"export BIT_WIDTH={out_dir} && yosys 3_run_synthesis.tcl\", shell=True, check=True)"
   ]
  },
  {
   "cell_type": "code",
   "execution_count": null,
   "id": "5caeb33e-b191-4b74-88f0-98b5852e12c4",
   "metadata": {},
   "outputs": [],
   "source": [
    "subprocess.run([\"python3\", \"4_get_delay_sta.py\", \"llm_bitwidth\"], check=True)"
   ]
  },
  {
   "cell_type": "markdown",
   "id": "fbb4f001-6dbf-4005-ace1-beb100b3a980",
   "metadata": {},
   "source": [
    "## Результат"
   ]
  },
  {
   "cell_type": "code",
   "execution_count": 14,
   "id": "54bc880a-cc4e-47e8-b93f-450fd477810d",
   "metadata": {},
   "outputs": [
    {
     "data": {
      "image/png": "[encoded data removed]",
      "text/plain": [
       "<Figure size 640x480 with 1 Axes>"
      ]
     },
     "metadata": {},
     "output_type": "display_data"
    }
   ],
   "source": [
    "res_dir = f'{out_dir}_output'\n",
    "df_llm = get_points(res_dir)\n",
    "pareto_front_llm = get_pareto_points(df_llm)\n",
    "\n",
    "plt.scatter(df_llm.area, df_llm.delay, alpha=0.5)\n",
    "plt.scatter(pareto_front_llm.area, pareto_front_llm.delay, c='r')\n",
    "plt.grid()"
   ]
  }
 ],
 "metadata": {
  "kernelspec": {
   "display_name": "Python 3 (ipykernel)",
   "language": "python",
   "name": "python3"
  },
  "language_info": {
   "codemirror_mode": {
    "name": "ipython",
    "version": 3
   },
   "file_extension": ".py",
   "mimetype": "text/x-python",
   "name": "python",
   "nbconvert_exporter": "python",
   "pygments_lexer": "ipython3",
   "version": "3.12.3"
  }
 },
 "nbformat": 4,
 "nbformat_minor": 5
}
