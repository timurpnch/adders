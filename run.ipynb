{
 "cells": [
  {
   "cell_type": "code",
   "execution_count": 5,
   "id": "f8183a19-c7c8-40a1-a424-3a549430d186",
   "metadata": {},
   "outputs": [],
   "source": [
    "import subprocess\n",
    "import matplotlib.pyplot as plt\n",
    "import os\n",
    "from constants import OPENAI_API_KEY, BITWIDTH\n",
    "from parse_functions import get_pareto_points, get_points"
   ]
  },
  {
   "cell_type": "markdown",
   "id": "2be8477a-2a45-4ae2-a595-8c3168042a26",
   "metadata": {},
   "source": [
    "Генерируем все возможные деревья"
   ]
  },
  {
   "cell_type": "code",
   "execution_count": 6,
   "id": "03e6fb11-217b-4dc3-92e1-08564650d76f",
   "metadata": {},
   "outputs": [],
   "source": [
    "folders = [f'bitwidth_{BITWIDTH}', f'bitwidth_{BITWIDTH}_output']\n",
    "\n",
    "for folder in folders:\n",
    "    if os.path.exists(folder):\n",
    "        subprocess.run(f\"rm -rf {folder}\", shell=True, check=True)"
   ]
  },
  {
   "cell_type": "code",
   "execution_count": null,
   "id": "7ef59df5-7006-4112-88a8-99faeaa97fd0",
   "metadata": {},
   "outputs": [],
   "source": [
    "subprocess.run([\"python3\", \"0_generate_prefix_trees_code.py\"], check=True)"
   ]
  },
  {
   "cell_type": "markdown",
   "id": "a78c6610-7217-48c6-a61e-5dbb5f0d2d45",
   "metadata": {},
   "source": [
    "Проверяем их"
   ]
  },
  {
   "cell_type": "code",
   "execution_count": null,
   "id": "42880463-cae7-4903-a2c3-cf4536c87cc7",
   "metadata": {},
   "outputs": [],
   "source": [
    "subprocess.run([\"python3\", \"1_check_input_files.py\"], check=True)"
   ]
  },
  {
   "cell_type": "markdown",
   "id": "438de4c8-a1d5-4c2d-9f29-04315a5e49ba",
   "metadata": {},
   "source": [
    "Генерируем параметры"
   ]
  },
  {
   "cell_type": "code",
   "execution_count": null,
   "id": "760e4ec1-9046-40e6-b0fb-b814e572538b",
   "metadata": {},
   "outputs": [],
   "source": [
    "subprocess.run([\"python3\", \"2_generate_params.py\"], check=True)"
   ]
  },
  {
   "cell_type": "markdown",
   "id": "67c5d595-792b-4d6f-942a-f2a6e8d2b3fe",
   "metadata": {},
   "source": [
    "Запускаем синтез"
   ]
  },
  {
   "cell_type": "code",
   "execution_count": null,
   "id": "7c6e627b-37d3-438c-8978-033ef6c3ae39",
   "metadata": {},
   "outputs": [],
   "source": [
    "subprocess.run(f\"export BIT_WIDTH={BITWIDTH} && yosys 3_run_synthesis.tcl\", shell=True, check=True)"
   ]
  },
  {
   "cell_type": "markdown",
   "id": "b2bbfa9e-5830-477a-9c9d-05f3953abfd7",
   "metadata": {},
   "source": [
    "Получаем значения площади и задержки"
   ]
  },
  {
   "cell_type": "code",
   "execution_count": null,
   "id": "5d655b6c-df5a-42ae-9325-24652f0d9495",
   "metadata": {
    "scrolled": true
   },
   "outputs": [],
   "source": [
    "subprocess.run([\"python3\", \"4_get_delay_sta.py\"], check=True)"
   ]
  },
  {
   "cell_type": "markdown",
   "id": "fb5f8c35-e45a-4b68-966c-7ece70d50080",
   "metadata": {},
   "source": [
    "Строим графики"
   ]
  },
  {
   "cell_type": "code",
   "execution_count": null,
   "id": "721a7981-ff82-44a4-81dc-a9a654ea0ada",
   "metadata": {},
   "outputs": [],
   "source": [
    "res_dir = f'bitwidth_{BITWIDTH}_output'\n",
    "df = get_points(res_dir)\n",
    "\n",
    "pareto_front = get_pareto_points(df)\n",
    "\n",
    "plt.scatter(df.area, df.delay, alpha=0.5)\n",
    "plt.scatter(pareto_front.area, pareto_front.delay, c='r')\n",
    "plt.grid()"
   ]
  },
  {
   "cell_type": "markdown",
   "id": "a877a14c-7218-4ba1-999c-bf5c403f5c47",
   "metadata": {
    "collapsed": true,
    "jupyter": {
     "outputs_hidden": true
    }
   },
   "source": [
    "Очищаем папки и запускаем LLM-генератор"
   ]
  },
  {
   "cell_type": "code",
   "execution_count": null,
   "id": "9af5da83-ae24-417d-8f3d-3938f84d215d",
   "metadata": {},
   "outputs": [],
   "source": [
    "subprocess.run(f'rm -rf bitwidth_{BITWIDTH}/* bitwidth_{BITWIDTH}_output/*', shell=True, check=True)"
   ]
  },
  {
   "cell_type": "code",
   "execution_count": null,
   "id": "72f1c0d2-b1f6-45ff-83ba-2c5e37b14358",
   "metadata": {},
   "outputs": [],
   "source": [
    "subprocess.run([\"python3\", \"llm_generator.py\"], check=True)"
   ]
  },
  {
   "cell_type": "markdown",
   "id": "c0d30f0d-6ebd-4006-8ef6-9bed753fa7d8",
   "metadata": {},
   "source": [
    "Проверяем структур"
   ]
  },
  {
   "cell_type": "code",
   "execution_count": null,
   "id": "1f06e275-f2f1-4029-af50-4db14327cc17",
   "metadata": {},
   "outputs": [],
   "source": [
    "subprocess.run([\"python3\", \"1_check_input_files.py\"], check=True)"
   ]
  },
  {
   "cell_type": "markdown",
   "id": "21b8f2d3-843b-4083-8215-06503392a742",
   "metadata": {},
   "source": [
    "Запускаем синтез"
   ]
  },
  {
   "cell_type": "code",
   "execution_count": null,
   "id": "98d0d7fd-a501-4029-a42a-847c808b0346",
   "metadata": {
    "scrolled": true
   },
   "outputs": [],
   "source": [
    "subprocess.run(f\"export BIT_WIDTH={BITWIDTH} && yosys 3_run_synthesis.tcl\", shell=True, check=True)"
   ]
  },
  {
   "cell_type": "markdown",
   "id": "447595a8-3e83-42f6-a25b-5bd0f742cd35",
   "metadata": {},
   "source": [
    "Получаем площадь и задержку"
   ]
  },
  {
   "cell_type": "code",
   "execution_count": null,
   "id": "384b6699-77af-4e10-9d01-9121e3cc8b93",
   "metadata": {
    "scrolled": true
   },
   "outputs": [],
   "source": [
    "subprocess.run([\"python3\", \"4_get_delay_sta.py\"], check=True)"
   ]
  },
  {
   "cell_type": "markdown",
   "id": "e49e3039-cc61-4529-affd-59ce3299e62a",
   "metadata": {},
   "source": [
    "Строим графики (красные точки - Парето-Фронт для LLM-сумматора, зеленые - для прошлых)"
   ]
  },
  {
   "cell_type": "code",
   "execution_count": null,
   "id": "e831b18c-5d68-4f06-91f5-ef568f39cb20",
   "metadata": {},
   "outputs": [],
   "source": [
    "res_dir = f'bitwidth_{BITWIDTH}_output'\n",
    "df_llm = get_points(res_dir)\n",
    "\n",
    "pareto_front_llm = get_pareto_points(df_llm)\n",
    "\n",
    "plt.scatter(df_llm.area, df_llm.delay, alpha=0.5)\n",
    "plt.scatter(pareto_front_llm.area, pareto_front_llm.delay, c='r')\n",
    "plt.scatter(pareto_front.area, pareto_front.delay, c='g')\n",
    "plt.grid()"
   ]
  },
  {
   "cell_type": "code",
   "execution_count": null,
   "id": "eea62ce6-7fa9-4c96-9b95-fb2f10de17ac",
   "metadata": {},
   "outputs": [],
   "source": []
  }
 ],
 "metadata": {
  "kernelspec": {
   "display_name": "Python 3 (ipykernel)",
   "language": "python",
   "name": "python3"
  },
  "language_info": {
   "codemirror_mode": {
    "name": "ipython",
    "version": 3
   },
   "file_extension": ".py",
   "mimetype": "text/x-python",
   "name": "python",
   "nbconvert_exporter": "python",
   "pygments_lexer": "ipython3",
   "version": "3.12.3"
  }
 },
 "nbformat": 4,
 "nbformat_minor": 5
}
